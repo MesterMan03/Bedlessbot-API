{
 "cells": [
  {
   "cell_type": "code",
   "execution_count": 21,
   "metadata": {},
   "outputs": [],
   "source": [
    "from sentence_transformers import SentenceTransformer, util\n",
    "\n",
    "\n",
    "class ST:\n",
    "    def __init__(self, qa_pairs_file: str):\n",
    "        # Read the file with the QA pairs\n",
    "        with open(qa_pairs_file, \"r\", encoding=\"utf-8\") as fIn:\n",
    "            self.qa_pairs = self.create_sets(fIn.read())\n",
    "\n",
    "        print(\"[~] Loading model...\")\n",
    "        self.embedder = SentenceTransformer(\"all-MiniLM-L6-v2\")\n",
    "        self.corpus_embeddings = util.normalize_embeddings(\n",
    "            self.embedder.encode(self.qa_pairs, convert_to_tensor=True).to(\"cuda\")\n",
    "        )\n",
    "        print(\"[+] Model successfully initialised\")\n",
    "\n",
    "    def create_sets(self, content: str):\n",
    "        lines = content.strip().split(\"\\n\")\n",
    "        qa_pairs: list[tuple[str, str]] = []\n",
    "        for line in lines:\n",
    "            if \"-\" in line:\n",
    "                qa = line.split(\"-\")\n",
    "                question = qa[0].strip()\n",
    "                answer = qa[1].strip()\n",
    "\n",
    "                # if the answer is just #, use the previous answer\n",
    "                if answer.startswith(\"#\"):\n",
    "                    answer = qa_pairs[-1][1]\n",
    "\n",
    "                qa_pairs.append((question, answer))\n",
    "        return qa_pairs\n",
    "\n",
    "    def search(self, q: str) -> str | None:\n",
    "        # Encode the question\n",
    "        q_embed = self.embedder.encode([q], convert_to_tensor=True)\n",
    "        q_embed = q_embed.to(\"cuda\")\n",
    "\n",
    "        # Find possible hits\n",
    "        hit = util.semantic_search(\n",
    "            q_embed, self.corpus_embeddings, score_function=util.dot_score, top_k=1\n",
    "        )[0][0]\n",
    "\n",
    "        if hit[\"score\"] < 0.65:\n",
    "            return None\n",
    "\n",
    "        return self.qa_pairs[hit[\"corpus_id\"]]\n"
   ]
  },
  {
   "cell_type": "code",
   "execution_count": 30,
   "metadata": {},
   "outputs": [
    {
     "name": "stdout",
     "output_type": "stream",
     "text": [
      "[~] Loading model...\n",
      "[+] Model successfully initialised\n"
     ]
    }
   ],
   "source": [
    "test = ST(qa_pairs_file=\"/home/mester/Bedlessbot-API/qa_pairs.txt\")"
   ]
  },
  {
   "cell_type": "code",
   "execution_count": 32,
   "metadata": {},
   "outputs": [
    {
     "data": {
      "text/plain": [
       "('Can I ask something?',\n",
       " 'If you have a question or need help with something, just say it. Asking if you can ask a question is annoying, read [this](https://dontasktoask.com)')"
      ]
     },
     "execution_count": 32,
     "metadata": {},
     "output_type": "execute_result"
    }
   ],
   "source": [
    "test.search(\"can i ask something\")"
   ]
  },
  {
   "cell_type": "code",
   "execution_count": 27,
   "metadata": {},
   "outputs": [
    {
     "data": {
      "text/plain": [
       "('Who is Mester?',\n",
       " \"just your usual nerd 🤓 but fr, he's an epic guy, you should totally give him a high five or smth\")"
      ]
     },
     "execution_count": 27,
     "metadata": {},
     "output_type": "execute_result"
    }
   ],
   "source": [
    "test.search(\"Tell me about Mester\")"
   ]
  },
  {
   "cell_type": "code",
   "execution_count": 29,
   "metadata": {},
   "outputs": [
    {
     "data": {
      "text/plain": [
       "('How do I level up?',\n",
       " 'You level up by talking in text or voice channels. The more active you are, the faster you can progress. There are also random quick time events and periodic XP multiplier events')"
      ]
     },
     "execution_count": 29,
     "metadata": {},
     "output_type": "execute_result"
    }
   ],
   "source": [
    "test.search(\"how to level up\")"
   ]
  }
 ],
 "metadata": {
  "kernelspec": {
   "display_name": "gen-inference",
   "language": "python",
   "name": "python3"
  },
  "language_info": {
   "codemirror_mode": {
    "name": "ipython",
    "version": 3
   },
   "file_extension": ".py",
   "mimetype": "text/x-python",
   "name": "python",
   "nbconvert_exporter": "python",
   "pygments_lexer": "ipython3",
   "version": "3.10.12"
  }
 },
 "nbformat": 4,
 "nbformat_minor": 2
}
